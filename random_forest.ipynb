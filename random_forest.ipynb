{
  "nbformat": 4,
  "nbformat_minor": 0,
  "metadata": {
    "colab": {
      "private_outputs": true,
      "provenance": [],
      "gpuType": "T4"
    },
    "kernelspec": {
      "name": "python3",
      "display_name": "Python 3"
    },
    "language_info": {
      "name": "python"
    },
    "accelerator": "GPU"
  },
  "cells": [
    {
      "cell_type": "code",
      "execution_count": null,
      "metadata": {
        "id": "0ylmycZmprh9"
      },
      "outputs": [],
      "source": [
        "!nvidia-smi\n"
      ]
    },
    {
      "cell_type": "code",
      "source": [
        "!python --version\n"
      ],
      "metadata": {
        "id": "o0YtjhcmqTYU"
      },
      "execution_count": null,
      "outputs": []
    },
    {
      "cell_type": "code",
      "source": [
        "import pickle\n",
        "from sklearn.ensemble import RandomForestClassifier\n",
        "from sklearn.model_selection import train_test_split, GridSearchCV\n",
        "from sklearn.metrics import accuracy_score\n",
        "import numpy as np"
      ],
      "metadata": {
        "id": "QYDOTGr0ZkaJ"
      },
      "execution_count": null,
      "outputs": []
    },
    {
      "cell_type": "code",
      "source": [
        "import os\n",
        "import pickle\n",
        "import cv2"
      ],
      "metadata": {
        "id": "4Cm7AkyzZ_Ei"
      },
      "execution_count": null,
      "outputs": []
    },
    {
      "cell_type": "code",
      "source": [
        "DATA_DIR = 'data'\n",
        "data = []\n",
        "labels = []\n",
        "for dir_ in os.listdir(DATA_DIR):\n",
        "    for img_path in os.listdir(os.path.join(DATA_DIR, dir_)):\n",
        "        img = cv2.imread(os.path.join(DATA_DIR, dir_, img_path))\n",
        "        img_rgb = cv2.cvtColor(img, cv2.COLOR_BGR2RGB)\n",
        "\n",
        "        # YOU CAN RESIZE\n",
        "\n",
        "        data.append(img_rgb)\n",
        "        labels.append(dir_)\n",
        "\n",
        "f = open('data.pickle', 'wb')\n",
        "pickle.dump({'data': data, 'labels': labels}, f)\n",
        "f.close()"
      ],
      "metadata": {
        "id": "cP864cqmZnyz"
      },
      "execution_count": null,
      "outputs": []
    },
    {
      "cell_type": "code",
      "source": [
        "data_dict = pickle.load(open('data.pickle', 'rb'))\n",
        "data = data_dict['data']\n",
        "labels = data_dict['labels']"
      ],
      "metadata": {
        "id": "mMfBNl8KZ1KB"
      },
      "execution_count": null,
      "outputs": []
    },
    {
      "cell_type": "code",
      "source": [
        "# Flatten images to 1D vectors\n",
        "data = np.array([img.flatten() for img in data])\n",
        "\n",
        "# Convert labels to numpy array\n",
        "labels = np.array(labels)\n",
        "\n",
        "x_train, x_test, y_train, y_test = train_test_split(data, labels, test_size=0.2, shuffle=True, stratify=labels)\n",
        "\n",
        "model = RandomForestClassifier(n_estimators=150, random_state=42)\n",
        "\n",
        "model.fit(x_train, y_train)\n",
        "\n",
        "# Predict on test set\n",
        "y_predict = model.predict(x_test)\n",
        "\n",
        "score = accuracy_score(y_test, y_predict)\n",
        "print('Initial RandomForestClassifier accuracy: {:.2f}%'.format(score * 100))\n",
        "\n",
        "# Further optimize the model using GridSearchCV for hyperparameter tuning\n",
        "param_grid = {\n",
        "    'n_estimators': [100, 150, 200],\n",
        "    'max_depth': [None, 10, 20],\n",
        "    'min_samples_split': [2, 5, 10],\n",
        "    'min_samples_leaf': [1, 2, 4],\n",
        "}\n",
        "\n",
        "grid_search = GridSearchCV(estimator=model, param_grid=param_grid, cv=3, scoring='accuracy', verbose=2, n_jobs=-1)\n",
        "grid_search.fit(x_train, y_train)\n",
        "\n",
        "# Get the best model from GridSearchCV\n",
        "best_model = grid_search.best_estimator_\n",
        "\n",
        "# Predict on test set with the best model\n",
        "y_predict_best = best_model.predict(x_test)\n",
        "\n",
        "# Evaluate best model\n",
        "score_best = accuracy_score(y_test, y_predict_best)\n",
        "print('Optimized RandomForestClassifier accuracy: {:.2f}%'.format(score_best * 100))\n",
        "\n",
        "# Save best model to file\n",
        "with open('model.pickle', 'wb') as f:\n",
        "    pickle.dump(best_model, f)"
      ],
      "metadata": {
        "id": "gPnmP3T2Z20f"
      },
      "execution_count": null,
      "outputs": []
    }
  ]
}